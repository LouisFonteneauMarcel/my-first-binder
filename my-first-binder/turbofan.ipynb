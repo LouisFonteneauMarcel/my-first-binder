{
 "cells": [
  {
   "cell_type": "code",
   "execution_count": 2,
   "id": "0feaad2e",
   "metadata": {},
   "outputs": [
    {
     "data": {
      "text/plain": [
       "'Hello wordl from Binder'"
      ]
     },
     "execution_count": 2,
     "metadata": {},
     "output_type": "execute_result"
    }
   ],
   "source": [
    "string = \"Hello wordl from Binder\"\n",
    "string"
   ]
  }
 ],
 "metadata": {
  "kernelspec": {
   "display_name": "Python 3 (ipykernel)",
   "language": "python",
   "name": "python3"
  },
  "language_info": {
   "codemirror_mode": {
    "name": "ipython",
    "version": 3
   },
   "file_extension": ".py",
   "mimetype": "text/x-python",
   "name": "python",
   "nbconvert_exporter": "python",
   "pygments_lexer": "ipython3",
   "version": "3.10.14"
  },
  "vscode": {
   "interpreter": {
    "hash": "0c1f2e9e0acff612fbff7be31f0ea913f7f20427d1d1231e188b099d6c58c52b"
   }
  }
 },
 "nbformat": 4,
 "nbformat_minor": 5
}
