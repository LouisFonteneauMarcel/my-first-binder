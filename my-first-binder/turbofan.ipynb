{
 "cells": [
  {
   "cell_type": "markdown",
   "id": "ba8b4132-1828-48fa-bf8c-1a1edbcac52f",
   "metadata": {},
   "source": [
    "# Turbofan Tutorial\n",
    "`pyturbo`  library is provided by twiinIT to assembly a simple turbofan system.\n",
    "\n",
    "The library is made of components: \n",
    "\n",
    "- `compressor` : fluid out is computed from fluid in and power provided by shaft with constant efficiency. \n",
    "- `combustor` : combustion is made considering constant FHV.\n",
    "- `turbine` : power is extracted from fluid in considering a given expansion ratio and constant efficiency. \n",
    "- `inlet` and `nozzle` are computing `drag` and `thrust` from fluid conditions, ambiant pressure and throat section. \n",
    "- `nacelle`: envelop over the engine.\n",
    "- `ogv`, `intermediate_casing` and `trf` and structures with aero channels. \n",
    "\n",
    "They are numerical components:\n",
    "\n",
    "- `fluid_spitter` is used to split the flow into primary and secondary flow\n",
    "- `shaft_spitter` is used to split the shaft power into booster and fan compressor\n",
    "\n",
    "Aero 0D and simplified geometry are considered. "
   ]
  },
  {
   "cell_type": "markdown",
   "id": "11f89b4c-b79b-45f7-8194-02d6a492fd23",
   "metadata": {},
   "source": [
    "A turbofan system is generated."
   ]
  },
  {
   "cell_type": "code",
   "execution_count": 1,
   "id": "65abf53d-7674-489d-bdaf-cf2b8444b0b0",
   "metadata": {},
   "outputs": [],
   "source": [
    "from pyturbo.systems.turbofan import TurbofanWithAtm\n",
    "sys = TurbofanWithAtm(\"sys\")\n",
    "tf = sys.tf"
   ]
  },
  {
   "cell_type": "code",
   "execution_count": null,
   "id": "6dc31fdb-6dd3-404c-afb4-6fb8c44c488c",
   "metadata": {},
   "outputs": [],
   "source": [
    "sys"
   ]
  },
  {
   "cell_type": "code",
   "execution_count": 2,
   "id": "481ed621-4d1e-49fa-8b78-abdc27885a1b",
   "metadata": {},
   "outputs": [
    {
     "data": {
      "application/vnd.jupyter.widget-view+json": {
       "model_id": "280156ee4c444d31b43643d9e0d96fc9",
       "version_major": 2,
       "version_minor": 0
      },
      "text/plain": [
       "Renderer(background='pink', camera=PerspectiveCamera(aspect=2.25, children=(DirectionalLight(intensity=0.3, po…"
      ]
     },
     "execution_count": 2,
     "metadata": {},
     "output_type": "execute_result"
    }
   ],
   "source": [
    "# geometrical view\n",
    "sys.run_once()\n",
    "\n",
    "from pyturbo.utils import jupyter_view\n",
    "\n",
    "jupyter_view(tf).show()"
   ]
  },
  {
   "cell_type": "markdown",
   "id": "f1d08e45-272d-4ae3-a844-902853f6f2d5",
   "metadata": {},
   "source": [
    "# Simulation\n",
    "\n",
    "The turbofan system has a couple of equations/unknowns to solve. We use `cosapp` non-linear solver for this purpose."
   ]
  },
  {
   "cell_type": "code",
   "execution_count": 3,
   "id": "1f0935df-92d0-48f9-a1b1-ef2f46220c2a",
   "metadata": {},
   "outputs": [],
   "source": [
    "from cosapp.drivers import NonLinearSolver"
   ]
  },
  {
   "cell_type": "markdown",
   "id": "34ea90e8-ecac-4e4f-8c64-14eeb25d7084",
   "metadata": {},
   "source": [
    "## Direct mode\n",
    "`thrust` is computed from `fuel_W`."
   ]
  },
  {
   "cell_type": "code",
   "execution_count": 4,
   "id": "a194311f-7756-46f2-a851-5693e8688703",
   "metadata": {},
   "outputs": [],
   "source": [
    "# off-design solver\n",
    "run = sys.add_driver(NonLinearSolver('run', tol = 1e-6))"
   ]
  },
  {
   "cell_type": "code",
   "execution_count": 5,
   "id": "7c17a20c-05f7-40ad-9f99-02d02d0f3fd4",
   "metadata": {},
   "outputs": [
    {
     "name": "stdout",
     "output_type": "stream",
     "text": [
      "mach = 0.0\n",
      "pamb = 101325.0 Pa\n",
      "thrust = 19.0 klbf\n",
      "thrust = 84 kN\n",
      "N1 = 6577 rpm\n",
      "N2 = 23444 rpm\n",
      "bpr = 7.5\n",
      "opr = 34.1\n",
      "T41 = 1786 K\n",
      "sfc = 0.426 kg/(h*kN)\n"
     ]
    }
   ],
   "source": [
    "# environment conditions\n",
    "sys.altitude = 0.\n",
    "sys.mach = 0.\n",
    "sys.dtamb = 15.\n",
    "\n",
    "# use case\n",
    "tf.fuel_W = .5\n",
    "\n",
    "sys.run_drivers()\n",
    "\n",
    "print('mach =', sys.mach)\n",
    "print('pamb =', tf.pamb, 'Pa')\n",
    "print('thrust =', round(tf.thrust * 0.224809/1e3, 1), 'klbf')\n",
    "print('thrust =', round(tf.thrust/1e3), 'kN')\n",
    "print('N1 =', round(tf.N1), \"rpm\")\n",
    "print('N2 =', round(tf.N2), \"rpm\")\n",
    "print('bpr =', round(tf.bpr, 1))\n",
    "print('opr =', round(tf.opr, 1))\n",
    "print('T41 =', round(tf.core.turbine.fl_in.Tt), 'K')\n",
    "print('sfc =', round(tf.sfc, 3), 'kg/(h*kN)')"
   ]
  },
  {
   "cell_type": "code",
   "execution_count": 6,
   "id": "f7779338-88a7-416a-aea2-c0c2675cc1dc",
   "metadata": {},
   "outputs": [
    {
     "data": {
      "text/plain": [
       "Unknowns [11]\n",
       "  tf.fl_in.W = 442.3108771334678\n",
       "  tf.fan_module.splitter_shaft.power_fractions = [0.66799579]\n",
       "  tf.fan_module.splitter_fluid.fluid_fractions = [0.88187347]\n",
       "  tf.core.turbine.aero.Ncqdes = 145.25050180808654\n",
       "  tf.core.turbine.aero.dhqt = 241.11044787544756\n",
       "  tf.core.compressor.sh_in.power = 22924263.2116414\n",
       "  tf.core.compressor.sh_in.N = 23444.14477842246\n",
       "  tf.turbine.aero.Ncqdes = 124.65263121792852\n",
       "  tf.turbine.aero.dhqt = 415.23336786508804\n",
       "  tf.fan_module.sh_in.power = 29998501.196282748\n",
       "  tf.fan_module.sh_in.N = 6576.782027006616\n",
       "Equations [11]\n",
       "  tf.fan_module.fan.aero: eps_psi == 0 := 4.440892098500626e-16\n",
       "  tf.fan_module.booster.aero: eps_psi == 0 := -7.105427357601002e-15\n",
       "  tf.core.compressor.aero: eps_psi == 0 := -5.0681681074138396e-14\n",
       "  tf.core.turbine.aero: fl_in.W == Wcrit := 4.050093593832571e-13\n",
       "  tf.core: compressor.sh_in.power == turbine.sh_out.power (loop) := -7.450580596923828e-09\n",
       "  tf.core: compressor.sh_in.N == turbine.sh_out.N (loop) := -3.346940502524376e-10\n",
       "  tf.turbine.aero: fl_in.W == Wcrit := 4.263256414560601e-13\n",
       "  tf.primary_nozzle.aero: fl_in.W == fl_out.W := 2.2382096176443156e-12\n",
       "  tf.secondary_nozzle.aero: fl_in.W == fl_out.W := 2.2737367544323206e-13\n",
       "  tf: fan_module.sh_in.power == turbine.sh_out.power (loop) := -8.940696716308594e-08\n",
       "  tf: fan_module.sh_in.N == turbine.sh_out.N (loop) := 7.275957614183426e-12"
      ]
     },
     "execution_count": 6,
     "metadata": {},
     "output_type": "execute_result"
    }
   ],
   "source": [
    "run.problem"
   ]
  },
  {
   "cell_type": "markdown",
   "id": "913e49f5-1c9f-4c19-a282-466462946e01",
   "metadata": {},
   "source": [
    "## control mode\n",
    "`fuel_W` is computed to match functional request, here the fan rotational speed `N1` value."
   ]
  },
  {
   "cell_type": "code",
   "execution_count": 8,
   "id": "272747f3-79f4-47d6-a777-bfe03dbcfbf1",
   "metadata": {},
   "outputs": [
    {
     "data": {
      "text/plain": [
       "Unknowns [1]\n",
       "  tf.fuel_W = 1.0\n",
       "Equations [1]\n",
       "  tf.N1 == 6576.782027006616 (target)"
      ]
     },
     "execution_count": 8,
     "metadata": {},
     "output_type": "execute_result"
    }
   ],
   "source": [
    "# control solver\n",
    "sys.drivers.clear()\n",
    "run = sys.add_driver(NonLinearSolver('run', tol=1e-6))\n",
    "run.add_unknown('tf.fuel_W')\n",
    "run.add_target('tf.N1')"
   ]
  },
  {
   "cell_type": "code",
   "execution_count": 9,
   "id": "506c3481-bffe-4d99-9a13-931f8800a00d",
   "metadata": {},
   "outputs": [
    {
     "name": "stdout",
     "output_type": "stream",
     "text": [
      "mach = 0.0\n",
      "pamb = 101325.0 Pa\n",
      "thrust = 10.9 klbf\n",
      "thrust = 48 kN\n",
      "N1 = 5000 rpm\n",
      "N2 = 20465 rpm\n",
      "bpr = 8.9\n",
      "opr = 19.2\n",
      "T41 = 1430 K\n",
      "sfc = 0.358 kg/(h*kN)\n"
     ]
    }
   ],
   "source": [
    "# environment conditions\n",
    "sys.altitude = 0.\n",
    "sys.mach = 0.\n",
    "sys.dtamb = 15.\n",
    "\n",
    "# use case\n",
    "tf.N1 = 5000.\n",
    "\n",
    "sys.run_drivers()\n",
    "\n",
    "print('mach =', sys.mach)\n",
    "print('pamb =', sys.atm.pamb, 'Pa')\n",
    "print('thrust =', round(tf.thrust * 0.224809/1e3, 1), 'klbf')\n",
    "print('thrust =', round(tf.thrust/1e3), 'kN')\n",
    "print('N1 =', round(tf.N1), \"rpm\")\n",
    "print('N2 =', round(tf.N2), \"rpm\")\n",
    "print('bpr =', round(tf.bpr, 1))\n",
    "print('opr =', round(tf.opr, 1))\n",
    "print('T41 =', round(tf.core.turbine.fl_in.Tt), 'K')\n",
    "print('sfc =', round(tf.sfc, 3), 'kg/(h*kN)')"
   ]
  },
  {
   "cell_type": "code",
   "execution_count": 10,
   "id": "51a8e27f-0f1b-4267-a6a3-aca650b27fff",
   "metadata": {},
   "outputs": [
    {
     "data": {
      "text/plain": [
       "Unknowns [12]\n",
       "  fuel_W = 0.4811320909299096\n",
       "  tf.fl_in.W = 328.08656070504475\n",
       "  tf.fan_module.splitter_shaft.power_fractions = [0.68751138]\n",
       "  tf.fan_module.splitter_fluid.fluid_fractions = [0.89946144]\n",
       "  tf.core.turbine.aero.Ncqdes = 141.70601632228133\n",
       "  tf.core.turbine.aero.dhqt = 241.1104478754474\n",
       "  tf.core.compressor.sh_in.power = 11535023.640473248\n",
       "  tf.core.compressor.sh_in.N = 20465.193829989716\n",
       "  tf.turbine.aero.Ncqdes = 105.91249192847229\n",
       "  tf.turbine.aero.dhqt = 358.980195330147\n",
       "  tf.fan_module.sh_in.power = 13049711.277447995\n",
       "  tf.fan_module.sh_in.N = 5000.0\n",
       "Equations [12]\n",
       "  tf.N1 == 5000.0 := 0.0\n",
       "  tf.fan_module.fan.aero: eps_psi == 0 := -1.942890293094024e-16\n",
       "  tf.fan_module.booster.aero: eps_psi == 0 := -2.220446049250313e-16\n",
       "  tf.core.compressor.aero: eps_psi == 0 := 1.27675647831893e-15\n",
       "  tf.core.turbine.aero: fl_in.W == Wcrit := 1.0658141036401503e-13\n",
       "  tf.core: compressor.sh_in.power == turbine.sh_out.power (loop) := -1.862645149230957e-09\n",
       "  tf.core: compressor.sh_in.N == turbine.sh_out.N (loop) := 0.0\n",
       "  tf.turbine.aero: fl_in.W == Wcrit := 8.526512829121202e-14\n",
       "  tf.primary_nozzle.aero: fl_in.W == fl_out.W := 3.552713678800501e-13\n",
       "  tf.secondary_nozzle.aero: fl_in.W == fl_out.W := -1.7053025658242404e-13\n",
       "  tf: fan_module.sh_in.power == turbine.sh_out.power (loop) := -5.587935447692871e-09\n",
       "  tf: fan_module.sh_in.N == turbine.sh_out.N (loop) := 3.637978807091713e-12"
      ]
     },
     "execution_count": 10,
     "metadata": {},
     "output_type": "execute_result"
    }
   ],
   "source": [
    "run.problem"
   ]
  },
  {
   "cell_type": "markdown",
   "id": "80bf30dd",
   "metadata": {},
   "source": [
    "## design mode\n",
    "\n",
    "Turbofan design characteristics are related to components and physical properties.\n",
    "\n",
    "### Using design methods"
   ]
  },
  {
   "cell_type": "code",
   "execution_count": 14,
   "id": "1f5717f1-aafd-4642-a218-562c26f5b467",
   "metadata": {},
   "outputs": [
    {
     "data": {
      "text/plain": [
       "Unknowns [19]\n",
       "  tf.fuel_W = 0.4811320909299096\n",
       "  tf.fan_diameter = 1.6\n",
       "  tf.fan_module.fan.aero.xnd = 10000.0\n",
       "  tf.fan_module.fan.aero.phiP = 0.4\n",
       "  tf.fan_module.geom.booster_radius_ratio = 0.6\n",
       "  tf.fan_module.booster.geom.blade_hub_to_tip_ratio = 0.6\n",
       "  tf.fan_module.booster.aero.phiP = 0.7\n",
       "  tf.fan_module.booster.aero.xnd = 10000.0\n",
       "  tf.geom.turbine_radius_ratio = 0.65\n",
       "  tf.turbine.geom.blade_height_ratio = 0.4\n",
       "  tf.turbine.aero.Ncdes = 15.0\n",
       "  tf.geom.core_inlet_radius_ratio = 0.25\n",
       "  tf.core.compressor.aero.xnd = 10000.0\n",
       "  tf.core.compressor.aero.phiP = 0.9\n",
       "  tf.geom.core_exit_radius_ratio = 0.3\n",
       "  tf.core.turbine.geom.blade_height_ratio = 0.2\n",
       "  tf.core.turbine.aero.Ncdes = 40.0\n",
       "  tf.geom.pri_nozzle_area_ratio = 0.9\n",
       "  tf.geom.sec_nozzle_area_ratio = 0.9\n",
       "Equations [19]\n",
       "  tf.thrust == 48377.41103005884 (target)\n",
       "  tf.inlet.aero.mach == 0.5 (target)\n",
       "  tf.fan_module.fan.aero.pcnr == 95.0 (target)\n",
       "  tf.fan_module.fan.aero.utip == 420.0 (target)\n",
       "  tf.bpr == 5.0 (target)\n",
       "  tf.fan_module.booster.aero.phi == 0.45 (target)\n",
       "  tf.fan_module.booster.aero.psi == 0.35 (target)\n",
       "  tf.fan_module.booster.aero.spec_flow == 180.0 (target)\n",
       "  tf.fan_module.booster.aero.pcnr == 95.0 (target)\n",
       "  tf.turbine.aero.psi == 1.25 (target)\n",
       "  tf.turbine.aero.Ncqdes == 100.0 (target)\n",
       "  tf.core.compressor.aero.pcnr == 95.0 (target)\n",
       "  tf.core.compressor.aero.phi == 0.5 (target)\n",
       "  tf.core.compressor.aero.utip == 420.0 (target)\n",
       "  tf.core.compressor.aero.pr == 11.0 (target)\n",
       "  tf.core.combustor.aero.Tcomb == 1700.0 (target)\n",
       "  tf.core.turbine.aero.psi == 1.2 (target)\n",
       "  tf.core.turbine.aero.Ncqdes == 100.0 (target)\n",
       "  tf.pr_nozzle == 1.1 (target)"
      ]
     },
     "execution_count": 14,
     "metadata": {},
     "output_type": "execute_result"
    }
   ],
   "source": [
    "# design solver\n",
    "sys.drivers.clear()\n",
    "design = sys.add_driver(NonLinearSolver('design', tol=1e-6, factor = 0.2))\n",
    "design.add_unknown('tf.fuel_W')\n",
    "design.add_target('tf.thrust')\n",
    "\n",
    "# init\n",
    "tf.fl_in.W = 300.\n",
    "\n",
    "# engine\n",
    "sys.thrust = 120e3\n",
    "tf.bpr = 5.\n",
    "tf.pr_nozzle = 1.1\n",
    "\n",
    "# inlet\n",
    "tf.inlet.aero.mach = 0.5\n",
    "\n",
    "# fan module\n",
    "tf.fan_module.fan.aero.pcnr = 95.\n",
    "tf.fan_module.fan.aero.utip = 420.\n",
    "\n",
    "# booster\n",
    "tf.fan_module.booster.aero.phi = 0.45\n",
    "tf.fan_module.booster.aero.psi = 0.35\n",
    "tf.fan_module.booster.aero.spec_flow = 180.\n",
    "tf.fan_module.booster.aero.pcnr = 95.\n",
    "\n",
    "# lpt\n",
    "tf.turbine.aero.Ncqdes = 100.\n",
    "tf.turbine.aero.psi = 1.25\n",
    "\n",
    "# hpc\n",
    "tf.core.compressor.aero.pr = 11.\n",
    "tf.core.compressor.aero.utip = 420.\n",
    "tf.core.compressor.aero.phi = 0.5\n",
    "tf.core.compressor.aero.pcnr = 95.\n",
    "\n",
    "# hpt\n",
    "tf.core.turbine.aero.psi = 1.2\n",
    "tf.core.turbine.aero.Ncqdes = 100.\n",
    "\n",
    "# combustor\n",
    "tf.core.combustor.aero.Tcomb = 1700.\n",
    "\n",
    "# design method (using targets)\n",
    "design.extend(tf.design_methods['scaling'])"
   ]
  },
  {
   "cell_type": "code",
   "execution_count": 15,
   "id": "4ea41fa5-3f9f-4181-9d5f-18c9b5608005",
   "metadata": {},
   "outputs": [
    {
     "name": "stdout",
     "output_type": "stream",
     "text": [
      "mach = 0.0\n",
      "pamb = 101325.0 Pa\n",
      "fan diameter = 70.7 in\n",
      "fan diameter = 1.8 m\n",
      "W = 445 Kg/s\n",
      "thrust = 27.0 klbf\n",
      "thrust = 120 kN\n",
      "N1 = 4464 rpm\n",
      "N2 = 10947 rpm\n",
      "bpr = 5.0\n",
      "opr = 30.8\n",
      "T41 = 1700 K\n",
      "sfc = 0.398 kg/(h*kN)\n",
      "psi fan = 0.36\n",
      "psi booster = 0.35\n",
      "psi hpc = 0.3\n"
     ]
    }
   ],
   "source": [
    "# environment conditions\n",
    "sys.altitude = 0.\n",
    "sys.mach = 0.\n",
    "sys.dtamb = 15.\n",
    "\n",
    "sys.run_drivers()\n",
    "\n",
    "print('mach =', sys.mach)\n",
    "print('pamb =', sys.atm.pamb, 'Pa')\n",
    "print('fan diameter =', round(tf.geom.fan_diameter / 0.0254, 1), 'in')\n",
    "print('fan diameter =', round(tf.geom.fan_diameter, 2), 'm')\n",
    "print('W =', round(tf.fl_in.W), 'Kg/s')\n",
    "print('thrust =', round(tf.thrust * 0.224809/1e3, 1), 'klbf')\n",
    "print('thrust =', round(tf.thrust/1e3), 'kN')\n",
    "print('N1 =', round(tf.N1), \"rpm\")\n",
    "print('N2 =', round(tf.N2), \"rpm\")\n",
    "print('bpr =', round(tf.bpr, 1))\n",
    "print('opr =', round(tf.opr, 1))\n",
    "print('T41 =', round(tf.core.turbine.fl_in.Tt), 'K')\n",
    "print('sfc =', round(tf.sfc, 3), 'kg/(h*kN)')\n",
    "print('psi fan =', round(tf.fan_module.fan.aero.psi, 2))\n",
    "print('psi booster =', round(tf.fan_module.booster.aero.psi, 2))\n",
    "print('psi hpc =', round(tf.core.compressor.aero.psi, 2))"
   ]
  },
  {
   "cell_type": "code",
   "execution_count": 16,
   "id": "616074d0-bf78-4be6-8783-8ffbb8228119",
   "metadata": {},
   "outputs": [
    {
     "data": {
      "text/plain": [
       "Unknowns [30]\n",
       "  fuel_W = 1.3250536826971522\n",
       "  tf.fan_diameter = 1.7968023771596553\n",
       "  tf.fan_module.fan.aero.xnd = 4699.230514804913\n",
       "  tf.fan_module.fan.aero.phiP = 0.5148161480335711\n",
       "  tf.fan_module.geom.booster_radius_ratio = 0.7974470236685992\n",
       "  tf.fan_module.booster.geom.blade_hub_to_tip_ratio = 0.8589597363714984\n",
       "  tf.fan_module.booster.aero.phiP = 0.6923076923076923\n",
       "  tf.fan_module.booster.aero.xnd = 4699.230514804913\n",
       "  tf.geom.turbine_radius_ratio = 0.44993051805210593\n",
       "  tf.turbine.geom.blade_height_ratio = 0.22677912081967153\n",
       "  tf.turbine.aero.Ncdes = 13.339504963887562\n",
       "  tf.geom.core_inlet_radius_ratio = 0.4077925594662063\n",
       "  tf.core.compressor.aero.xnd = 11523.580815099043\n",
       "  tf.core.compressor.aero.phiP = 0.7180590258000786\n",
       "  tf.geom.core_exit_radius_ratio = 0.45413239875331163\n",
       "  tf.core.turbine.geom.blade_height_ratio = 0.10038561179321587\n",
       "  tf.core.turbine.aero.Ncdes = 27.80450798744951\n",
       "  tf.geom.pri_nozzle_area_ratio = 1.7954804169358394\n",
       "  tf.geom.sec_nozzle_area_ratio = 0.6072732105232945\n",
       "  tf.fl_in.W = 445.15531889410505\n",
       "  tf.fan_module.splitter_shaft.power_fractions = [0.73020135]\n",
       "  tf.fan_module.splitter_fluid.fluid_fractions = [0.83333333]\n",
       "  tf.core.turbine.aero.Ncqdes = 100.0\n",
       "  tf.core.turbine.aero.dhqt = 278.62378565858495\n",
       "  tf.core.compressor.sh_in.power = 35769702.54885922\n",
       "  tf.core.compressor.sh_in.N = 10947.401774344095\n",
       "  tf.turbine.aero.Ncqdes = 100.0\n",
       "  tf.turbine.aero.dhqt = 349.20895260430234\n",
       "  tf.fan_module.sh_in.power = 32390086.432340484\n",
       "  tf.fan_module.sh_in.N = 4464.268989064667\n",
       "Equations [30]\n",
       "  thrust == 120000.0 := 2.9103830456733704e-11\n",
       "  tf.inlet.aero.mach == 0.5 := 0.0\n",
       "  tf.fan_module.fan.aero.pcnr == 95.0 := 0.0\n",
       "  tf.fan_module.fan.aero.utip == 420.0 := -5.684341886080802e-14\n",
       "  tf.bpr == 5.0 := 8.881784197001252e-16\n",
       "  tf.fan_module.booster.aero.phi == 0.45 := -4.440892098500626e-16\n",
       "  tf.fan_module.booster.aero.psi == 0.35 := 6.661338147750939e-16\n",
       "  tf.fan_module.booster.aero.spec_flow == 180.0 := -1.9895196601282805e-13\n",
       "  tf.fan_module.booster.aero.pcnr == 95.0 := 0.0\n",
       "  tf.turbine.aero.psi == 1.25 := 8.881784197001252e-16\n",
       "  tf.turbine.aero.Ncqdes == 100.0 := 0.0\n",
       "  tf.core.compressor.aero.pcnr == 95.0 := 2.842170943040401e-14\n",
       "  tf.core.compressor.aero.phi == 0.5 := 4.440892098500626e-16\n",
       "  tf.core.compressor.aero.utip == 420.0 := -5.684341886080802e-14\n",
       "  tf.core.compressor.aero.pr == 11.0 := 1.7763568394002505e-15\n",
       "  tf.core.combustor.aero.Tcomb == 1700.0 := 0.0\n",
       "  tf.core.turbine.aero.psi == 1.2 := 2.220446049250313e-16\n",
       "  tf.core.turbine.aero.Ncqdes == 100.0 := 0.0\n",
       "  tf.pr_nozzle == 1.1 := 1.7763568394002505e-15\n",
       "  tf.fan_module.fan.aero: eps_psi == 0 := 6.106226635438361e-16\n",
       "  tf.fan_module.booster.aero: eps_psi == 0 := -4.996003610813204e-16\n",
       "  tf.core.compressor.aero: eps_psi == 0 := 7.771561172376096e-16\n",
       "  tf.core.turbine.aero: fl_in.W == Wcrit := 1.2789769243681803e-13\n",
       "  tf.core: compressor.sh_in.power == turbine.sh_out.power (loop) := 7.450580596923828e-09\n",
       "  tf.core: compressor.sh_in.N == turbine.sh_out.N (loop) := -3.637978807091713e-12\n",
       "  tf.turbine.aero: fl_in.W == Wcrit := 1.4210854715202004e-13\n",
       "  tf.primary_nozzle.aero: fl_in.W == fl_out.W := 1.2789769243681803e-13\n",
       "  tf.secondary_nozzle.aero: fl_in.W == fl_out.W := -5.684341886080802e-14\n",
       "  tf: fan_module.sh_in.power == turbine.sh_out.power (loop) := 7.450580596923828e-09\n",
       "  tf: fan_module.sh_in.N == turbine.sh_out.N (loop) := 9.094947017729282e-13"
      ]
     },
     "execution_count": 16,
     "metadata": {},
     "output_type": "execute_result"
    }
   ],
   "source": [
    "design.problem"
   ]
  },
  {
   "cell_type": "markdown",
   "id": "588a2015-ee95-4c0f-bcbb-e02ef2055a0b",
   "metadata": {},
   "source": [
    "### Using raw equations/unknowns (detailed)"
   ]
  },
  {
   "cell_type": "code",
   "execution_count": 18,
   "id": "3e525a11-cfbc-4269-9094-f7a86f37d7ef",
   "metadata": {},
   "outputs": [
    {
     "data": {
      "text/plain": [
       "Unknowns [19]\n",
       "  tf.fuel_W = 1.3250536826971522\n",
       "  tf.fan_diameter = 1.7968023771596553\n",
       "  tf.fan_module.fan.aero.xnd = 4699.230514804913\n",
       "  tf.fan_module.fan.aero.phiP = 0.5148161480335711\n",
       "  tf.fan_module.geom.booster_radius_ratio = 0.7974470236685992\n",
       "  tf.fan_module.booster.geom.blade_hub_to_tip_ratio = 0.8589597363714984\n",
       "  tf.fan_module.booster.aero.phiP = 0.6923076923076923\n",
       "  tf.fan_module.booster.aero.xnd = 4699.230514804913\n",
       "  tf.geom.turbine_radius_ratio = 0.44993051805210593\n",
       "  tf.turbine.geom.blade_height_ratio = 0.22677912081967153\n",
       "  tf.turbine.aero.Ncdes = 13.339504963887562\n",
       "  tf.geom.core_inlet_radius_ratio = 0.4077925594662063\n",
       "  tf.core.compressor.aero.xnd = 11523.580815099043\n",
       "  tf.core.compressor.aero.phiP = 0.7180590258000786\n",
       "  tf.geom.core_exit_radius_ratio = 0.45413239875331163\n",
       "  tf.core.turbine.geom.blade_height_ratio = 0.10038561179321587\n",
       "  tf.core.turbine.aero.Ncdes = 27.80450798744951\n",
       "  tf.geom.pri_nozzle_area_ratio = 1.7954804169358394\n",
       "  tf.geom.sec_nozzle_area_ratio = 0.6072732105232945\n",
       "Equations [19]\n",
       "  tf.thrust == 120000.00000000003 (target)\n",
       "  tf.inlet.aero.mach == 0.5 (target)\n",
       "  tf.fan_module.fan.aero.pcnr == 95.0 (target)\n",
       "  tf.fan_module.fan.aero.utip == 420.0 (target)\n",
       "  tf.bpr == 5.0 (target)\n",
       "  tf.fan_module.booster.aero.phi == 0.45 (target)\n",
       "  tf.fan_module.booster.aero.psi == 0.35 (target)\n",
       "  tf.fan_module.booster.aero.spec_flow == 180.0 (target)\n",
       "  tf.fan_module.booster.aero.pcnr == 95.0 (target)\n",
       "  tf.turbine.aero.psi == 1.25 (target)\n",
       "  tf.turbine.aero.Ncqdes == 100.0 (target)\n",
       "  tf.core.compressor.aero.pcnr == 95.0 (target)\n",
       "  tf.core.compressor.aero.phi == 0.5 (target)\n",
       "  tf.core.compressor.aero.utip == 420.0 (target)\n",
       "  tf.core.compressor.aero.pr == 11.0 (target)\n",
       "  tf.core.combustor.aero.Tcomb == 1700.0 (target)\n",
       "  tf.core.turbine.aero.psi == 1.2 (target)\n",
       "  tf.core.turbine.aero.Ncqdes == 100.0 (target)\n",
       "  tf.pr_nozzle == 1.1 (target)"
      ]
     },
     "execution_count": 18,
     "metadata": {},
     "output_type": "execute_result"
    }
   ],
   "source": [
    "# design mode solver\n",
    "sys.drivers.clear()\n",
    "design = sys.add_driver(NonLinearSolver('design', tol=1e-6, factor=0.2))\n",
    "\n",
    "# engine\n",
    "sys.thrust = 120e3\n",
    "tf.bpr = 5.\n",
    "tf.pr_nozzle = 1.1\n",
    "\n",
    "# inlet\n",
    "tf.inlet.aero.mach = 0.5\n",
    "\n",
    "# fan module\n",
    "tf.fan_module.fan.aero.utip = 420.\n",
    "tf.fan_module.fan.aero.pcnr = 95.\n",
    "\n",
    "# booster\n",
    "tf.fan_module.booster.aero.phi = 0.45\n",
    "tf.fan_module.booster.aero.psi = 0.35\n",
    "tf.fan_module.booster.aero.spec_flow = 180.\n",
    "tf.fan_module.booster.aero.pcnr = 95.\n",
    "\n",
    "# lpt\n",
    "tf.turbine.aero.Ncqdes = 100.\n",
    "tf.turbine.aero.psi = 1.25\n",
    "\n",
    "# hpc\n",
    "tf.core.compressor.aero.pr = 11.\n",
    "tf.core.compressor.aero.utip = 420.\n",
    "tf.core.compressor.aero.phi = 0.5\n",
    "tf.core.compressor.aero.pcnr = 95.\n",
    "\n",
    "# hpt\n",
    "tf.core.turbine.aero.psi = 1.2\n",
    "tf.core.turbine.aero.Ncqdes = 100.\n",
    "\n",
    "# combustor\n",
    "tf.core.combustor.aero.Tcomb = 1700.\n",
    "\n",
    "# engine\n",
    "design.add_unknown('tf.fuel_W')\n",
    "design.add_target('tf.thrust')\n",
    "design.add_unknown('tf.fan_diameter')\n",
    "\n",
    "# inlet\n",
    "design.add_target('tf.inlet.aero.mach')\n",
    "\n",
    "# fan\n",
    "design.add_unknown(\"tf.fan_module.fan.aero.xnd\", max_rel_step=0.5)\n",
    "design.add_unknown('tf.fan_module.fan.aero.phiP', lower_bound=0.1, upper_bound=1.5)\n",
    "\n",
    "design.add_target(\"tf.fan_module.fan.aero.pcnr\")\n",
    "design.add_target('tf.fan_module.fan.aero.utip')\n",
    "design.add_target('tf.bpr')\n",
    "\n",
    "# booster\n",
    "design.add_unknown('tf.fan_module.geom.booster_radius_ratio')\n",
    "design.add_unknown('tf.fan_module.booster.geom.blade_hub_to_tip_ratio', lower_bound=1e-5, upper_bound=1.)\n",
    "design.add_unknown('tf.fan_module.booster.aero.phiP')\n",
    "design.add_unknown(\"tf.fan_module.booster.aero.xnd\", max_rel_step=0.5)\n",
    "\n",
    "design.add_target('tf.fan_module.booster.aero.phi')\n",
    "design.add_target('tf.fan_module.booster.aero.psi')\n",
    "design.add_target('tf.fan_module.booster.aero.spec_flow')\n",
    "design.add_target(\"tf.fan_module.booster.aero.pcnr\")\n",
    "\n",
    "# lpt\n",
    "design.add_unknown('tf.geom.turbine_radius_ratio')\n",
    "design.add_unknown(\"tf.turbine.geom.blade_height_ratio\", lower_bound=0., upper_bound=1.)\n",
    "design.add_unknown('tf.turbine.aero.Ncdes')\n",
    "\n",
    "design.add_target('tf.turbine.aero.psi')\n",
    "design.add_target('tf.turbine.aero.Ncqdes')\n",
    "\n",
    "# hpc\n",
    "design.add_unknown('tf.geom.core_inlet_radius_ratio', max_rel_step=0.8)\n",
    "design.add_unknown(\"tf.core.compressor.aero.xnd\", max_rel_step=0.5)\n",
    "design.add_unknown(\"tf.core.compressor.aero.phiP\")\n",
    "\n",
    "design.add_target(\"tf.core.compressor.aero.pcnr\")\n",
    "design.add_target(\"tf.core.compressor.aero.phi\")\n",
    "design.add_target(\"tf.core.compressor.aero.utip\")\n",
    "design.add_target(\"tf.core.compressor.aero.pr\")\n",
    "\n",
    "# combustor\n",
    "design.add_target(\"tf.core.combustor.aero.Tcomb\")\n",
    "\n",
    "# hpt\n",
    "design.add_unknown('tf.geom.core_exit_radius_ratio', max_rel_step=0.8)\n",
    "design.add_unknown(\"tf.core.turbine.geom.blade_height_ratio\", lower_bound=0., upper_bound=1.)\n",
    "design.add_unknown(\"tf.core.turbine.aero.Ncdes\")\n",
    "\n",
    "design.add_target(\"tf.core.turbine.aero.psi\")\n",
    "design.add_target(\"tf.core.turbine.aero.Ncqdes\")\n",
    "\n",
    "# nozzle\n",
    "design.add_unknown('tf.geom.pri_nozzle_area_ratio', lower_bound=0.05)\n",
    "design.add_unknown('tf.geom.sec_nozzle_area_ratio', upper_bound=1.)\n",
    "\n",
    "design.add_target('tf.pr_nozzle')"
   ]
  },
  {
   "cell_type": "code",
   "execution_count": 19,
   "id": "b464d54b-90d6-4663-b4c3-bb3ff4e5f108",
   "metadata": {},
   "outputs": [
    {
     "name": "stdout",
     "output_type": "stream",
     "text": [
      "mach = 0.0\n",
      "pamb = 101325.0 Pa\n",
      "fan diameter = 70.7 in\n",
      "fan diameter = 1.8 m\n",
      "W = 445 Kg/s\n",
      "thrust = 27.0 klbf\n",
      "thrust = 120 kN\n",
      "N1 = 4464 rpm\n",
      "N2 = 10947 rpm\n",
      "bpr = 5.0\n",
      "opr = 30.8\n",
      "T41 = 1700 K\n",
      "sfc = 0.398 kg/(h*kN)\n",
      "psi fan = 0.36\n",
      "psi booster = 0.35\n",
      "psi hpc = 0.3\n"
     ]
    }
   ],
   "source": [
    "# environment conditions\n",
    "sys.altitude = 0.\n",
    "sys.mach = 0.\n",
    "sys.dtamb = 15.\n",
    "\n",
    "sys.run_drivers()\n",
    "\n",
    "print('mach =', sys.mach)\n",
    "print('pamb =', sys.atm.pamb, 'Pa')\n",
    "print('fan diameter =', round(tf.geom.fan_diameter / 0.0254, 1), 'in')\n",
    "print('fan diameter =', round(tf.geom.fan_diameter, 2), 'm')\n",
    "print('W =', round(tf.fl_in.W), 'Kg/s')\n",
    "print('thrust =', round(tf.thrust * 0.224809/1e3, 1), 'klbf')\n",
    "print('thrust =', round(tf.thrust/1e3), 'kN')\n",
    "print('N1 =', round(tf.N1), \"rpm\")\n",
    "print('N2 =', round(tf.N2), \"rpm\")\n",
    "print('bpr =', round(tf.bpr, 1))\n",
    "print('opr =', round(tf.opr, 1))\n",
    "print('T41 =', round(tf.core.turbine.fl_in.Tt), 'K')\n",
    "print('sfc =', round(tf.sfc, 3), 'kg/(h*kN)')\n",
    "print('psi fan =', round(tf.fan_module.fan.aero.psi, 2))\n",
    "print('psi booster =', round(tf.fan_module.booster.aero.psi, 2))\n",
    "print('psi hpc =', round(tf.core.compressor.aero.psi, 2))"
   ]
  },
  {
   "cell_type": "code",
   "execution_count": 20,
   "id": "2d53099f-6fd0-4953-90eb-2b3348a4ddfb",
   "metadata": {},
   "outputs": [
    {
     "data": {
      "application/vnd.jupyter.widget-view+json": {
       "model_id": "17974dd492ec49ed9ec47d85fb522543",
       "version_major": 2,
       "version_minor": 0
      },
      "text/plain": [
       "Renderer(background='pink', camera=PerspectiveCamera(aspect=2.25, children=(DirectionalLight(intensity=0.3, po…"
      ]
     },
     "execution_count": 20,
     "metadata": {},
     "output_type": "execute_result"
    }
   ],
   "source": [
    "jupyter_view(tf).show()"
   ]
  },
  {
   "cell_type": "markdown",
   "id": "71866bce",
   "metadata": {},
   "source": [
    "### off-design computation after design\n",
    "\n",
    "Fuel consumption for a given altitude/mach/dtamb and thrust. "
   ]
  },
  {
   "cell_type": "code",
   "execution_count": 21,
   "id": "f83def4e-0b28-4415-a842-226806a4b604",
   "metadata": {},
   "outputs": [],
   "source": [
    "# off-design mode\n",
    "sys.drivers.clear()\n",
    "run = sys.add_driver(NonLinearSolver('run', tol=1e-6))"
   ]
  },
  {
   "cell_type": "code",
   "execution_count": 23,
   "id": "8de8788d-9b5f-4b39-b377-2b025ad43672",
   "metadata": {},
   "outputs": [
    {
     "name": "stdout",
     "output_type": "stream",
     "text": [
      "mach = 0.8\n",
      "pamb = 26499.87312280235 Pa\n",
      "fuel flow = 2.1 kg/s\n",
      "W = 352 Kg/s\n",
      "thrust = 27.0 klbf\n",
      "thrust = 120 kN\n",
      "N1 = 6635 rpm\n",
      "N2 = 16664 rpm\n",
      "bpr = 4.1\n",
      "opr = 85.7\n",
      "T41 = 2353 K\n",
      "sfc = 0.618 kg/(h*kN)\n",
      "psi fan = 0.32\n",
      "psi booster = 0.15\n",
      "psi hpc = 0.18\n"
     ]
    }
   ],
   "source": [
    "# environment conditions\n",
    "sys.altitude = 10000.\n",
    "sys.mach = 0.8\n",
    "sys.dtamb = 0.\n",
    "\n",
    "# requirement\n",
    "tf.thrust = 10e3 / 0.224809\n",
    "# tf.N1 = 5000.\n",
    "\n",
    "run.add_unknown('tf.fuel_W')\n",
    "run.add_target('tf.thrust')\n",
    "# run.runner.add_target('tf.N1')\n",
    "\n",
    "sys.run_drivers()\n",
    "\n",
    "print('mach =', sys.mach)\n",
    "print('pamb =', sys.atm.pamb, 'Pa')\n",
    "print('fuel flow =', round(tf.fuel_W, 1), 'kg/s')\n",
    "print('W =', round(tf.fl_in.W), 'Kg/s')\n",
    "print('thrust =', round(tf.thrust * 0.224809/1e3, 1), 'klbf')\n",
    "print('thrust =', round(tf.thrust/1e3), 'kN')\n",
    "print('N1 =', round(tf.N1), \"rpm\")\n",
    "print('N2 =', round(tf.N2), \"rpm\")\n",
    "print('bpr =', round(tf.bpr, 1))\n",
    "print('opr =', round(tf.opr, 1))\n",
    "print('T41 =', round(tf.core.turbine.fl_in.Tt), 'K')\n",
    "print('sfc =', round(tf.sfc, 3), 'kg/(h*kN)')\n",
    "print('psi fan =', round(tf.fan_module.fan.aero.psi, 2))\n",
    "print('psi booster =', round(tf.fan_module.booster.aero.psi, 2))\n",
    "print('psi hpc =', round(tf.core.compressor.aero.psi, 2))"
   ]
  },
  {
   "cell_type": "code",
   "execution_count": null,
   "id": "7fd0fb76-9ebd-47c6-8ef2-764cb3d691b8",
   "metadata": {},
   "outputs": [],
   "source": []
  }
 ],
 "metadata": {
  "kernelspec": {
   "display_name": "Python 3 (ipykernel)",
   "language": "python",
   "name": "python3"
  },
  "language_info": {
   "codemirror_mode": {
    "name": "ipython",
    "version": 3
   },
   "file_extension": ".py",
   "mimetype": "text/x-python",
   "name": "python",
   "nbconvert_exporter": "python",
   "pygments_lexer": "ipython3",
   "version": "3.11.10"
  },
  "vscode": {
   "interpreter": {
    "hash": "0c1f2e9e0acff612fbff7be31f0ea913f7f20427d1d1231e188b099d6c58c52b"
   }
  }
 },
 "nbformat": 4,
 "nbformat_minor": 5
}
